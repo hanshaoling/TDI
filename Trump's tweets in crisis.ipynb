{
 "cells": [
  {
   "cell_type": "markdown",
   "metadata": {},
   "source": [
    "## Intro\n",
    "\n",
    "President Trump is well known for using Twitter. It is interesting to look inside and see whether there are some correlation between his tweets and the current public health crisis.   \n",
    "In this project, Trump's tweets data, Covid cases and deaths data in US are analyzed and visualized."
   ]
  },
  {
   "cell_type": "code",
   "execution_count": 35,
   "metadata": {},
   "outputs": [],
   "source": [
    "import json\n",
    "import pandas as pd\n",
    "import numpy as np\n",
    "import matplotlib.pyplot as plt\n",
    "from textblob import TextBlob \n",
    "import re\n",
    "from wordcloud import WordCloud,STOPWORDS\n",
    "from ipywidgets import widgets, interact, interactive, fixed\n",
    "from collections import Counter "
   ]
  },
  {
   "cell_type": "markdown",
   "metadata": {},
   "source": [
    "## Read data for Trump's tweets\n",
    "\n",
    "Tweet data of Trump is from Jan 1 2020 to Oct 1 2020, right before he hits COVID-19. Data source: http://www.trumptwitterarchive.com/archive, I find this website so interesting and amazing. I didn't scrape from twitter because sometimes Trumps delete some of his tweets, and this source archives those deleted tweets. Another reason is it takes time to get approval of Twitter developer account."
   ]
  },
  {
   "cell_type": "code",
   "execution_count": 95,
   "metadata": {},
   "outputs": [],
   "source": [
    "trump_tweet=pd.read_json('trump_tweet.json')"
   ]
  },
  {
   "cell_type": "markdown",
   "metadata": {},
   "source": [
    "Total number of tweets from Trump during this period."
   ]
  },
  {
   "cell_type": "code",
   "execution_count": 96,
   "metadata": {},
   "outputs": [
    {
     "data": {
      "text/plain": [
       "(9249, 7)"
      ]
     },
     "execution_count": 96,
     "metadata": {},
     "output_type": "execute_result"
    }
   ],
   "source": [
    "trump_tweet.shape"
   ]
  },
  {
   "cell_type": "markdown",
   "metadata": {},
   "source": [
    "9249 tweets within 9 months! And whatelse do we have in meta data?"
   ]
  },
  {
   "cell_type": "code",
   "execution_count": 97,
   "metadata": {},
   "outputs": [
    {
     "data": {
      "text/plain": [
       "Index(['source', 'text', 'created_at', 'retweet_count', 'favorite_count',\n",
       "       'is_retweet', 'id_str'],\n",
       "      dtype='object')"
      ]
     },
     "execution_count": 97,
     "metadata": {},
     "output_type": "execute_result"
    }
   ],
   "source": [
    "trump_tweet.columns"
   ]
  },
  {
   "cell_type": "code",
   "execution_count": 98,
   "metadata": {},
   "outputs": [],
   "source": [
    "#setup date time\n",
    "trump_tweet['created_at']=pd.to_datetime(trump_tweet['created_at'])\n",
    "#clean tweet text: remove url link and @\n",
    "def clean_test(text):\n",
    "    text=text.encode('ascii', 'ignore').decode('ascii')#remove emoji\n",
    "    text=text.replace('&amp;',\"and\")\n",
    "    return re.sub('(\\w+:\\/\\/\\S+)|(@\\S+)','',text).strip().replace('\\n',' ')#remove links\n",
    "\n",
    "trump_tweet.text=trump_tweet.text.map(clean_test)   "
   ]
  },
  {
   "cell_type": "markdown",
   "metadata": {},
   "source": [
    "Sentiment analysis with Textblob."
   ]
  },
  {
   "cell_type": "code",
   "execution_count": 100,
   "metadata": {},
   "outputs": [],
   "source": [
    "trump_tweet['polarity']=trump_tweet.text.map(lambda tweet:TextBlob(tweet).sentiment[0])\n",
    "trump_tweet['subjectivity']=trump_tweet.text.map(lambda tweet:TextBlob(tweet).sentiment[1])\n",
    "trump_tweet['length']=trump_tweet.text.map(lambda tweet:len(tweet.split()))\n",
    "trump_tweet['month']=trump_tweet['created_at'].dt.month"
   ]
  },
  {
   "cell_type": "code",
   "execution_count": 102,
   "metadata": {},
   "outputs": [
    {
     "data": {
      "text/html": [
       "<div>\n",
       "<style scoped>\n",
       "    .dataframe tbody tr th:only-of-type {\n",
       "        vertical-align: middle;\n",
       "    }\n",
       "\n",
       "    .dataframe tbody tr th {\n",
       "        vertical-align: top;\n",
       "    }\n",
       "\n",
       "    .dataframe thead th {\n",
       "        text-align: right;\n",
       "    }\n",
       "</style>\n",
       "<table border=\"1\" class=\"dataframe\">\n",
       "  <thead>\n",
       "    <tr style=\"text-align: right;\">\n",
       "      <th></th>\n",
       "      <th>source</th>\n",
       "      <th>text</th>\n",
       "      <th>created_at</th>\n",
       "      <th>retweet_count</th>\n",
       "      <th>favorite_count</th>\n",
       "      <th>is_retweet</th>\n",
       "      <th>id_str</th>\n",
       "      <th>polarity</th>\n",
       "      <th>subjectivity</th>\n",
       "      <th>length</th>\n",
       "      <th>month</th>\n",
       "    </tr>\n",
       "  </thead>\n",
       "  <tbody>\n",
       "    <tr>\n",
       "      <th>0</th>\n",
       "      <td>Twitter for iPhone</td>\n",
       "      <td>Thank you</td>\n",
       "      <td>2020-10-01 03:45:25+00:00</td>\n",
       "      <td>19616</td>\n",
       "      <td>65721</td>\n",
       "      <td>False</td>\n",
       "      <td>1311512518800470016</td>\n",
       "      <td>0.000000</td>\n",
       "      <td>0.000000</td>\n",
       "      <td>2</td>\n",
       "      <td>10</td>\n",
       "    </tr>\n",
       "    <tr>\n",
       "      <th>1</th>\n",
       "      <td>Twitter for iPhone</td>\n",
       "      <td>RT  Big news!  A Maine court sided with the RN...</td>\n",
       "      <td>2020-10-01 03:25:31+00:00</td>\n",
       "      <td>29393</td>\n",
       "      <td>0</td>\n",
       "      <td>True</td>\n",
       "      <td>1311507509958471680</td>\n",
       "      <td>0.000000</td>\n",
       "      <td>0.100000</td>\n",
       "      <td>21</td>\n",
       "      <td>10</td>\n",
       "    </tr>\n",
       "    <tr>\n",
       "      <th>2</th>\n",
       "      <td>Twitter for iPhone</td>\n",
       "      <td>Thank you Paul!</td>\n",
       "      <td>2020-10-01 03:00:33+00:00</td>\n",
       "      <td>15992</td>\n",
       "      <td>63294</td>\n",
       "      <td>False</td>\n",
       "      <td>1311501225423073280</td>\n",
       "      <td>0.000000</td>\n",
       "      <td>0.000000</td>\n",
       "      <td>3</td>\n",
       "      <td>10</td>\n",
       "    </tr>\n",
       "    <tr>\n",
       "      <th>3</th>\n",
       "      <td>Twitter for iPhone</td>\n",
       "      <td>100,000 DEFECTIVE BALLOTS IN NEW YORK. THEY WA...</td>\n",
       "      <td>2020-10-01 02:59:02+00:00</td>\n",
       "      <td>51445</td>\n",
       "      <td>190750</td>\n",
       "      <td>False</td>\n",
       "      <td>1311500843309387776</td>\n",
       "      <td>0.224432</td>\n",
       "      <td>0.393939</td>\n",
       "      <td>38</td>\n",
       "      <td>10</td>\n",
       "    </tr>\n",
       "    <tr>\n",
       "      <th>4</th>\n",
       "      <td>Twitter for iPhone</td>\n",
       "      <td>In just 3 and a half years, we have secured Am...</td>\n",
       "      <td>2020-10-01 02:51:05+00:00</td>\n",
       "      <td>18885</td>\n",
       "      <td>70838</td>\n",
       "      <td>False</td>\n",
       "      <td>1311498845860196352</td>\n",
       "      <td>0.019048</td>\n",
       "      <td>0.323810</td>\n",
       "      <td>41</td>\n",
       "      <td>10</td>\n",
       "    </tr>\n",
       "  </tbody>\n",
       "</table>\n",
       "</div>"
      ],
      "text/plain": [
       "               source                                               text  \\\n",
       "0  Twitter for iPhone                                          Thank you   \n",
       "1  Twitter for iPhone  RT  Big news!  A Maine court sided with the RN...   \n",
       "2  Twitter for iPhone                                    Thank you Paul!   \n",
       "3  Twitter for iPhone  100,000 DEFECTIVE BALLOTS IN NEW YORK. THEY WA...   \n",
       "4  Twitter for iPhone  In just 3 and a half years, we have secured Am...   \n",
       "\n",
       "                 created_at  retweet_count  favorite_count  is_retweet  \\\n",
       "0 2020-10-01 03:45:25+00:00          19616           65721       False   \n",
       "1 2020-10-01 03:25:31+00:00          29393               0        True   \n",
       "2 2020-10-01 03:00:33+00:00          15992           63294       False   \n",
       "3 2020-10-01 02:59:02+00:00          51445          190750       False   \n",
       "4 2020-10-01 02:51:05+00:00          18885           70838       False   \n",
       "\n",
       "                id_str  polarity  subjectivity  length  month  \n",
       "0  1311512518800470016  0.000000      0.000000       2     10  \n",
       "1  1311507509958471680  0.000000      0.100000      21     10  \n",
       "2  1311501225423073280  0.000000      0.000000       3     10  \n",
       "3  1311500843309387776  0.224432      0.393939      38     10  \n",
       "4  1311498845860196352  0.019048      0.323810      41     10  "
      ]
     },
     "execution_count": 102,
     "metadata": {},
     "output_type": "execute_result"
    }
   ],
   "source": [
    "trump_tweet.head()"
   ]
  },
  {
   "cell_type": "markdown",
   "metadata": {},
   "source": [
    "We can remove extremely short tweets "
   ]
  },
  {
   "cell_type": "code",
   "execution_count": 105,
   "metadata": {},
   "outputs": [],
   "source": [
    "trump_tweet=trump_tweet[trump_tweet['length']>=3]"
   ]
  },
  {
   "cell_type": "markdown",
   "metadata": {},
   "source": [
    "How many tweets left?"
   ]
  },
  {
   "cell_type": "code",
   "execution_count": 106,
   "metadata": {},
   "outputs": [
    {
     "data": {
      "text/plain": [
       "(8261, 11)"
      ]
     },
     "execution_count": 106,
     "metadata": {},
     "output_type": "execute_result"
    }
   ],
   "source": [
    "trump_tweet.shape"
   ]
  },
  {
   "cell_type": "code",
   "execution_count": 107,
   "metadata": {},
   "outputs": [
    {
     "data": {
      "image/png": "[encoded data removed]",
      "text/plain": [
       "<Figure size 432x288 with 1 Axes>"
      ]
     },
     "metadata": {
      "needs_background": "light"
     },
     "output_type": "display_data"
    }
   ],
   "source": [
    "plt.hist(trump_tweet.polarity,bins='auto');\n",
    "plt.title('Polarity of Trump tweet');"
   ]
  },
  {
   "cell_type": "code",
   "execution_count": 108,
   "metadata": {},
   "outputs": [
    {
     "data": {
      "image/png": "[encoded data removed]",
      "text/plain": [
       "<Figure size 432x288 with 1 Axes>"
      ]
     },
     "metadata": {
      "needs_background": "light"
     },
     "output_type": "display_data"
    }
   ],
   "source": [
    "plt.hist(trump_tweet.length,bins='auto');\n",
    "plt.title('Length of Trump tweet');"
   ]
  },
  {
   "cell_type": "code",
   "execution_count": 109,
   "metadata": {},
   "outputs": [],
   "source": [
    "stopwords = set(STOPWORDS)\n",
    "stopwords.update([\"RT\",'I','The','They','He','She','This','That','.','We','It','A'])\n",
    "slider=widgets.IntSlider(min=1,max=10,step=1,description='Month',value=1)\n",
    "def word_cloud_month(month):\n",
    "    wc=WordCloud(background_color=\"white\",stopwords=stopwords,width=800, \n",
    "                 height=500).generate(' '.join(trump_tweet[trump_tweet.month==month].text))\n",
    "    plt.imshow(wc, interpolation=\"bilinear\")\n",
    "    plt.axis('off');"
   ]
  },
  {
   "cell_type": "markdown",
   "metadata": {},
   "source": [
    "### Trump's favourite words\n",
    "**Interactive** word cloud from Trump tweet by month. Manipulate by moving the slider."
   ]
  },
  {
   "cell_type": "code",
   "execution_count": 110,
   "metadata": {},
   "outputs": [
    {
     "data": {
      "application/vnd.jupyter.widget-view+json": {
       "model_id": "7b49482b2f894829af2267e75dec6f43",
       "version_major": 2,
       "version_minor": 0
      },
      "text/plain": [
       "interactive(children=(IntSlider(value=1, description='Month', max=10, min=1), Output()), _dom_classes=('widget…"
      ]
     },
     "metadata": {},
     "output_type": "display_data"
    }
   ],
   "source": [
    "interact(word_cloud_month,month=slider);# may need to wait for few moments after moving the slider"
   ]
  },
  {
   "cell_type": "code",
   "execution_count": 171,
   "metadata": {},
   "outputs": [],
   "source": [
    "def words_favourite_month(month,n=5):\n",
    "    ls=' '.join(trump_tweet[trump_tweet.month==month].text).split()\n",
    "    counter=Counter(ls)\n",
    "    for sw in stopwords:\n",
    "        del counter[sw]\n",
    "    result= counter.most_common(n)\n",
    "    result=pd.DataFrame(result,columns=['Word','Frequency'])\n",
    "    result.Frequency=result.Frequency/sum(trump_tweet.month==month)\n",
    "    return result\n",
    "\n",
    "def covid_freq_month(month):\n",
    "    return len(re.findall('covid',' '.join(trump_tweet[trump_tweet.month==month].text),flags=re.IGNORECASE))/sum(trump_tweet.month==month)"
   ]
  },
  {
   "cell_type": "markdown",
   "metadata": {},
   "source": [
    "Besides word cloud, we can also see Trump's favourite words every month in this way"
   ]
  },
  {
   "cell_type": "code",
   "execution_count": 177,
   "metadata": {},
   "outputs": [
    {
     "data": {
      "text/html": [
       "<div>\n",
       "<style scoped>\n",
       "    .dataframe tbody tr th:only-of-type {\n",
       "        vertical-align: middle;\n",
       "    }\n",
       "\n",
       "    .dataframe tbody tr th {\n",
       "        vertical-align: top;\n",
       "    }\n",
       "\n",
       "    .dataframe thead th {\n",
       "        text-align: right;\n",
       "    }\n",
       "</style>\n",
       "<table border=\"1\" class=\"dataframe\">\n",
       "  <thead>\n",
       "    <tr style=\"text-align: right;\">\n",
       "      <th></th>\n",
       "      <th>Word</th>\n",
       "      <th>Frequency</th>\n",
       "    </tr>\n",
       "  </thead>\n",
       "  <tbody>\n",
       "    <tr>\n",
       "      <th>0</th>\n",
       "      <td>President</td>\n",
       "      <td>0.122286</td>\n",
       "    </tr>\n",
       "    <tr>\n",
       "      <th>1</th>\n",
       "      <td>Democrats</td>\n",
       "      <td>0.121143</td>\n",
       "    </tr>\n",
       "    <tr>\n",
       "      <th>2</th>\n",
       "      <td>will</td>\n",
       "      <td>0.112000</td>\n",
       "    </tr>\n",
       "    <tr>\n",
       "      <th>3</th>\n",
       "      <td>House</td>\n",
       "      <td>0.082286</td>\n",
       "    </tr>\n",
       "    <tr>\n",
       "      <th>4</th>\n",
       "      <td>Trump</td>\n",
       "      <td>0.061714</td>\n",
       "    </tr>\n",
       "  </tbody>\n",
       "</table>\n",
       "</div>"
      ],
      "text/plain": [
       "        Word  Frequency\n",
       "0  President   0.122286\n",
       "1  Democrats   0.121143\n",
       "2       will   0.112000\n",
       "3      House   0.082286\n",
       "4      Trump   0.061714"
      ]
     },
     "execution_count": 177,
     "metadata": {},
     "output_type": "execute_result"
    }
   ],
   "source": [
    "#Favourite word in Jan\n",
    "words_favourite_month(1)"
   ]
  },
  {
   "cell_type": "code",
   "execution_count": 193,
   "metadata": {},
   "outputs": [
    {
     "data": {
      "image/png": "[encoded data removed]",
      "text/plain": [
       "<Figure size 432x288 with 1 Axes>"
      ]
     },
     "metadata": {
      "needs_background": "light"
     },
     "output_type": "display_data"
    }
   ],
   "source": [
    "plt.plot(range(1,10),[covid_freq_month(i) for i in range(1,10)])\n",
    "plt.title('COVID in Trump tweets')\n",
    "plt.xlabel('Month')\n",
    "plt.ylabel('Frequency of COVID in tweets');"
   ]
  },
  {
   "cell_type": "markdown",
   "metadata": {},
   "source": [
    "## Read data of COVID data in US\n",
    "The Covid data comes from https://github.com/OpportunityInsights/EconomicTracker/blob/main/data/COVID%20-%20County%20-%20Daily.csv, containing the daily count and rate per 100,000 people of confirmed COVID-19 cases, deaths or tests performed. The original source is New York Times and The COVID Tracking Project (https://covidtracking.com/)."
   ]
  },
  {
   "cell_type": "code",
   "execution_count": 195,
   "metadata": {},
   "outputs": [
    {
     "name": "stderr",
     "output_type": "stream",
     "text": [
      "C:\\Users\\sugar\\Anaconda3\\envs\\cs109b\\lib\\site-packages\\IPython\\core\\interactiveshell.py:3051: DtypeWarning: Columns (4,5,6,7,8,9,10,11) have mixed types. Specify dtype option on import or set low_memory=False.\n",
      "  interactivity=interactivity, compiler=compiler, result=result)\n"
     ]
    }
   ],
   "source": [
    "covid_data=pd.read_csv('EconomicTracker-main/data/COVID - County - Daily.csv')"
   ]
  },
  {
   "cell_type": "code",
   "execution_count": 197,
   "metadata": {},
   "outputs": [
    {
     "data": {
      "text/html": [
       "<div>\n",
       "<style scoped>\n",
       "    .dataframe tbody tr th:only-of-type {\n",
       "        vertical-align: middle;\n",
       "    }\n",
       "\n",
       "    .dataframe tbody tr th {\n",
       "        vertical-align: top;\n",
       "    }\n",
       "\n",
       "    .dataframe thead th {\n",
       "        text-align: right;\n",
       "    }\n",
       "</style>\n",
       "<table border=\"1\" class=\"dataframe\">\n",
       "  <thead>\n",
       "    <tr style=\"text-align: right;\">\n",
       "      <th></th>\n",
       "      <th>year</th>\n",
       "      <th>month</th>\n",
       "      <th>day</th>\n",
       "      <th>countyfips</th>\n",
       "      <th>case_count</th>\n",
       "      <th>new_case_count</th>\n",
       "      <th>death_count</th>\n",
       "      <th>new_death_count</th>\n",
       "      <th>case_rate</th>\n",
       "      <th>death_rate</th>\n",
       "      <th>new_case_rate</th>\n",
       "      <th>new_death_rate</th>\n",
       "    </tr>\n",
       "  </thead>\n",
       "  <tbody>\n",
       "    <tr>\n",
       "      <th>0</th>\n",
       "      <td>2020</td>\n",
       "      <td>1</td>\n",
       "      <td>21</td>\n",
       "      <td>1001</td>\n",
       "      <td>0</td>\n",
       "      <td>0</td>\n",
       "      <td>0</td>\n",
       "      <td>0</td>\n",
       "      <td>0</td>\n",
       "      <td>0</td>\n",
       "      <td>.</td>\n",
       "      <td>.</td>\n",
       "    </tr>\n",
       "    <tr>\n",
       "      <th>1</th>\n",
       "      <td>2020</td>\n",
       "      <td>1</td>\n",
       "      <td>21</td>\n",
       "      <td>1003</td>\n",
       "      <td>0</td>\n",
       "      <td>0</td>\n",
       "      <td>0</td>\n",
       "      <td>0</td>\n",
       "      <td>0</td>\n",
       "      <td>0</td>\n",
       "      <td>.</td>\n",
       "      <td>.</td>\n",
       "    </tr>\n",
       "    <tr>\n",
       "      <th>2</th>\n",
       "      <td>2020</td>\n",
       "      <td>1</td>\n",
       "      <td>21</td>\n",
       "      <td>1005</td>\n",
       "      <td>0</td>\n",
       "      <td>0</td>\n",
       "      <td>0</td>\n",
       "      <td>0</td>\n",
       "      <td>0</td>\n",
       "      <td>0</td>\n",
       "      <td>.</td>\n",
       "      <td>.</td>\n",
       "    </tr>\n",
       "    <tr>\n",
       "      <th>3</th>\n",
       "      <td>2020</td>\n",
       "      <td>1</td>\n",
       "      <td>21</td>\n",
       "      <td>1007</td>\n",
       "      <td>0</td>\n",
       "      <td>0</td>\n",
       "      <td>0</td>\n",
       "      <td>0</td>\n",
       "      <td>0</td>\n",
       "      <td>0</td>\n",
       "      <td>.</td>\n",
       "      <td>.</td>\n",
       "    </tr>\n",
       "    <tr>\n",
       "      <th>4</th>\n",
       "      <td>2020</td>\n",
       "      <td>1</td>\n",
       "      <td>21</td>\n",
       "      <td>1009</td>\n",
       "      <td>0</td>\n",
       "      <td>0</td>\n",
       "      <td>0</td>\n",
       "      <td>0</td>\n",
       "      <td>0</td>\n",
       "      <td>0</td>\n",
       "      <td>.</td>\n",
       "      <td>.</td>\n",
       "    </tr>\n",
       "  </tbody>\n",
       "</table>\n",
       "</div>"
      ],
      "text/plain": [
       "   year  month  day  countyfips case_count new_case_count death_count  \\\n",
       "0  2020      1   21        1001          0              0           0   \n",
       "1  2020      1   21        1003          0              0           0   \n",
       "2  2020      1   21        1005          0              0           0   \n",
       "3  2020      1   21        1007          0              0           0   \n",
       "4  2020      1   21        1009          0              0           0   \n",
       "\n",
       "  new_death_count case_rate death_rate new_case_rate new_death_rate  \n",
       "0               0         0          0             .              .  \n",
       "1               0         0          0             .              .  \n",
       "2               0         0          0             .              .  \n",
       "3               0         0          0             .              .  \n",
       "4               0         0          0             .              .  "
      ]
     },
     "execution_count": 197,
     "metadata": {},
     "output_type": "execute_result"
    }
   ],
   "source": [
    "covid_data.head()"
   ]
  },
  {
   "cell_type": "code",
   "execution_count": 209,
   "metadata": {},
   "outputs": [],
   "source": [
    "#Setup date time\n",
    "covid_data['date']=covid_data.year.astype(str)+covid_data.month.astype(str).str.zfill(2)+covid_data.day.astype(str).str.zfill(2)\n",
    "covid_data['date']=pd.to_datetime(covid_data['date'])"
   ]
  },
  {
   "cell_type": "code",
   "execution_count": 213,
   "metadata": {},
   "outputs": [
    {
     "data": {
      "text/plain": [
       "Index(['year', 'month', 'day', 'countyfips', 'case_count', 'new_case_count',\n",
       "       'death_count', 'new_death_count', 'case_rate', 'death_rate',\n",
       "       'new_case_rate', 'new_death_rate', 'date'],\n",
       "      dtype='object')"
      ]
     },
     "execution_count": 213,
     "metadata": {},
     "output_type": "execute_result"
    }
   ],
   "source": [
    "covid_data.columns"
   ]
  },
  {
   "cell_type": "code",
   "execution_count": 243,
   "metadata": {},
   "outputs": [],
   "source": [
    "#keep case rate, death rate, new case rate and new death rate\n",
    "covid_rate=covid_data.iloc[:,8:]\n",
    "#throwaway missing values\n"
   ]
  },
  {
   "cell_type": "code",
   "execution_count": 244,
   "metadata": {},
   "outputs": [],
   "source": [
    "for i in range(4):\n",
    "    subs=covid_rate.iloc[:,i]=='.'\n",
    "    covid_rate.loc[subs,covid_rate.columns[i]]=np.nan\n",
    "    covid_rate.iloc[:,i]=covid_rate.iloc[:,i].astype(float)\n",
    "covid_rate=covid_rate.dropna()"
   ]
  },
  {
   "cell_type": "code",
   "execution_count": 245,
   "metadata": {},
   "outputs": [
    {
     "data": {
      "text/html": [
       "<div>\n",
       "<style scoped>\n",
       "    .dataframe tbody tr th:only-of-type {\n",
       "        vertical-align: middle;\n",
       "    }\n",
       "\n",
       "    .dataframe tbody tr th {\n",
       "        vertical-align: top;\n",
       "    }\n",
       "\n",
       "    .dataframe thead th {\n",
       "        text-align: right;\n",
       "    }\n",
       "</style>\n",
       "<table border=\"1\" class=\"dataframe\">\n",
       "  <thead>\n",
       "    <tr style=\"text-align: right;\">\n",
       "      <th></th>\n",
       "      <th>case_rate</th>\n",
       "      <th>death_rate</th>\n",
       "      <th>new_case_rate</th>\n",
       "      <th>new_death_rate</th>\n",
       "    </tr>\n",
       "  </thead>\n",
       "  <tbody>\n",
       "    <tr>\n",
       "      <th>count</th>\n",
       "      <td>800995.000000</td>\n",
       "      <td>800995.000000</td>\n",
       "      <td>800995.000000</td>\n",
       "      <td>800995.000000</td>\n",
       "    </tr>\n",
       "    <tr>\n",
       "      <th>mean</th>\n",
       "      <td>574.680391</td>\n",
       "      <td>14.953762</td>\n",
       "      <td>7.807449</td>\n",
       "      <td>0.173114</td>\n",
       "    </tr>\n",
       "    <tr>\n",
       "      <th>std</th>\n",
       "      <td>979.795760</td>\n",
       "      <td>33.390671</td>\n",
       "      <td>14.444908</td>\n",
       "      <td>0.608187</td>\n",
       "    </tr>\n",
       "    <tr>\n",
       "      <th>min</th>\n",
       "      <td>0.000000</td>\n",
       "      <td>-36.700000</td>\n",
       "      <td>-253.000000</td>\n",
       "      <td>-6.330000</td>\n",
       "    </tr>\n",
       "    <tr>\n",
       "      <th>25%</th>\n",
       "      <td>0.000000</td>\n",
       "      <td>0.000000</td>\n",
       "      <td>0.000000</td>\n",
       "      <td>0.000000</td>\n",
       "    </tr>\n",
       "    <tr>\n",
       "      <th>50%</th>\n",
       "      <td>131.000000</td>\n",
       "      <td>0.000000</td>\n",
       "      <td>2.140000</td>\n",
       "      <td>0.000000</td>\n",
       "    </tr>\n",
       "    <tr>\n",
       "      <th>75%</th>\n",
       "      <td>722.000000</td>\n",
       "      <td>13.900000</td>\n",
       "      <td>9.720000</td>\n",
       "      <td>0.000000</td>\n",
       "    </tr>\n",
       "    <tr>\n",
       "      <th>max</th>\n",
       "      <td>7972.000000</td>\n",
       "      <td>349.000000</td>\n",
       "      <td>155.000000</td>\n",
       "      <td>12.400000</td>\n",
       "    </tr>\n",
       "  </tbody>\n",
       "</table>\n",
       "</div>"
      ],
      "text/plain": [
       "           case_rate     death_rate  new_case_rate  new_death_rate\n",
       "count  800995.000000  800995.000000  800995.000000   800995.000000\n",
       "mean      574.680391      14.953762       7.807449        0.173114\n",
       "std       979.795760      33.390671      14.444908        0.608187\n",
       "min         0.000000     -36.700000    -253.000000       -6.330000\n",
       "25%         0.000000       0.000000       0.000000        0.000000\n",
       "50%       131.000000       0.000000       2.140000        0.000000\n",
       "75%       722.000000      13.900000       9.720000        0.000000\n",
       "max      7972.000000     349.000000     155.000000       12.400000"
      ]
     },
     "execution_count": 245,
     "metadata": {},
     "output_type": "execute_result"
    }
   ],
   "source": [
    "covid_rate.describe()"
   ]
  },
  {
   "cell_type": "code",
   "execution_count": 259,
   "metadata": {},
   "outputs": [
    {
     "data": {
      "text/html": [
       "<div>\n",
       "<style scoped>\n",
       "    .dataframe tbody tr th:only-of-type {\n",
       "        vertical-align: middle;\n",
       "    }\n",
       "\n",
       "    .dataframe tbody tr th {\n",
       "        vertical-align: top;\n",
       "    }\n",
       "\n",
       "    .dataframe thead th {\n",
       "        text-align: right;\n",
       "    }\n",
       "</style>\n",
       "<table border=\"1\" class=\"dataframe\">\n",
       "  <thead>\n",
       "    <tr style=\"text-align: right;\">\n",
       "      <th></th>\n",
       "      <th>case_rate</th>\n",
       "      <th>death_rate</th>\n",
       "      <th>new_case_rate</th>\n",
       "      <th>new_death_rate</th>\n",
       "    </tr>\n",
       "    <tr>\n",
       "      <th>date</th>\n",
       "      <th></th>\n",
       "      <th></th>\n",
       "      <th></th>\n",
       "      <th></th>\n",
       "    </tr>\n",
       "  </thead>\n",
       "  <tbody>\n",
       "    <tr>\n",
       "      <th>2020-01-27</th>\n",
       "      <td>0.000065</td>\n",
       "      <td>0.000000</td>\n",
       "      <td>0.000009</td>\n",
       "      <td>0.000006</td>\n",
       "    </tr>\n",
       "    <tr>\n",
       "      <th>2020-01-28</th>\n",
       "      <td>0.000065</td>\n",
       "      <td>0.000000</td>\n",
       "      <td>0.000004</td>\n",
       "      <td>0.000000</td>\n",
       "    </tr>\n",
       "    <tr>\n",
       "      <th>2020-01-29</th>\n",
       "      <td>0.000065</td>\n",
       "      <td>0.000000</td>\n",
       "      <td>0.000004</td>\n",
       "      <td>0.000000</td>\n",
       "    </tr>\n",
       "    <tr>\n",
       "      <th>2020-01-30</th>\n",
       "      <td>0.000072</td>\n",
       "      <td>0.000000</td>\n",
       "      <td>0.000005</td>\n",
       "      <td>0.000000</td>\n",
       "    </tr>\n",
       "    <tr>\n",
       "      <th>2020-01-31</th>\n",
       "      <td>0.000088</td>\n",
       "      <td>0.000000</td>\n",
       "      <td>0.000006</td>\n",
       "      <td>0.000000</td>\n",
       "    </tr>\n",
       "    <tr>\n",
       "      <th>...</th>\n",
       "      <td>...</td>\n",
       "      <td>...</td>\n",
       "      <td>...</td>\n",
       "      <td>...</td>\n",
       "    </tr>\n",
       "    <tr>\n",
       "      <th>2020-10-03</th>\n",
       "      <td>1994.204010</td>\n",
       "      <td>44.068590</td>\n",
       "      <td>19.465477</td>\n",
       "      <td>0.349067</td>\n",
       "    </tr>\n",
       "    <tr>\n",
       "      <th>2020-10-04</th>\n",
       "      <td>2008.877626</td>\n",
       "      <td>44.229749</td>\n",
       "      <td>19.533886</td>\n",
       "      <td>0.351879</td>\n",
       "    </tr>\n",
       "    <tr>\n",
       "      <th>2020-10-05</th>\n",
       "      <td>2026.479663</td>\n",
       "      <td>44.434208</td>\n",
       "      <td>19.747876</td>\n",
       "      <td>0.354351</td>\n",
       "    </tr>\n",
       "    <tr>\n",
       "      <th>2020-10-06</th>\n",
       "      <td>2046.440006</td>\n",
       "      <td>44.756827</td>\n",
       "      <td>19.974839</td>\n",
       "      <td>0.338701</td>\n",
       "    </tr>\n",
       "    <tr>\n",
       "      <th>2020-10-07</th>\n",
       "      <td>2072.254424</td>\n",
       "      <td>45.226776</td>\n",
       "      <td>20.631162</td>\n",
       "      <td>0.343430</td>\n",
       "    </tr>\n",
       "  </tbody>\n",
       "</table>\n",
       "<p>255 rows × 4 columns</p>\n",
       "</div>"
      ],
      "text/plain": [
       "              case_rate  death_rate  new_case_rate  new_death_rate\n",
       "date                                                              \n",
       "2020-01-27     0.000065    0.000000       0.000009        0.000006\n",
       "2020-01-28     0.000065    0.000000       0.000004        0.000000\n",
       "2020-01-29     0.000065    0.000000       0.000004        0.000000\n",
       "2020-01-30     0.000072    0.000000       0.000005        0.000000\n",
       "2020-01-31     0.000088    0.000000       0.000006        0.000000\n",
       "...                 ...         ...            ...             ...\n",
       "2020-10-03  1994.204010   44.068590      19.465477        0.349067\n",
       "2020-10-04  2008.877626   44.229749      19.533886        0.351879\n",
       "2020-10-05  2026.479663   44.434208      19.747876        0.354351\n",
       "2020-10-06  2046.440006   44.756827      19.974839        0.338701\n",
       "2020-10-07  2072.254424   45.226776      20.631162        0.343430\n",
       "\n",
       "[255 rows x 4 columns]"
      ]
     },
     "execution_count": 259,
     "metadata": {},
     "output_type": "execute_result"
    }
   ],
   "source": [
    "covid_rate.groupby('date').mean()"
   ]
  },
  {
   "cell_type": "code",
   "execution_count": 252,
   "metadata": {},
   "outputs": [],
   "source": [
    "#average by data, aggregating all available counties\n",
    "covid_rate_mean=covid_rate.groupby('date').mean()"
   ]
  },
  {
   "cell_type": "code",
   "execution_count": 271,
   "metadata": {},
   "outputs": [
    {
     "data": {
      "image/png": "[encoded data removed]",
      "text/plain": [
       "<Figure size 864x576 with 1 Axes>"
      ]
     },
     "metadata": {
      "needs_background": "light"
     },
     "output_type": "display_data"
    }
   ],
   "source": [
    "covid_rate_mean.plot(figsize=(12,8))\n",
    "plt.yscale('log')\n",
    "plt.title('COVID cases and death rate since the outbreak');"
   ]
  },
  {
   "cell_type": "markdown",
   "metadata": {},
   "source": [
    "## Covid and Trump's tweet sentiment"
   ]
  },
  {
   "cell_type": "code",
   "execution_count": null,
   "metadata": {},
   "outputs": [],
   "source": [
    "trump_sentiment=trump_tweet.groupby('month').mean()\n",
    "trump_sentiment.index=pd.date_range(start='1/1/2020', end='10/1/2020',periods=10)\n",
    "trump_sentiment['COVID Freq']=[covid_freq_month(i) for i in range(1,11)]"
   ]
  },
  {
   "cell_type": "code",
   "execution_count": 322,
   "metadata": {},
   "outputs": [
    {
     "data": {
      "image/png": "[encoded data removed]",
      "text/plain": [
       "<Figure size 864x576 with 1 Axes>"
      ]
     },
     "metadata": {
      "needs_background": "light"
     },
     "output_type": "display_data"
    }
   ],
   "source": [
    "fig = plt.figure(figsize=(12,8))\n",
    "ax = plt.subplot(111)\n",
    "covid_rate_mean.plot(ax=ax)\n",
    "\n",
    "trump_sentiment['polarity'].plot(ax=ax,label='Polarity')\n",
    "trump_sentiment['COVID Freq'].plot(ax=ax,label='COVID Frequency')\n",
    "ax.set_yscale('log')\n",
    "plt.legend();\n",
    "#df2['Col2'].plot(ax=ax)"
   ]
  }
 ],
 "metadata": {
  "kernelspec": {
   "display_name": "Python 3",
   "language": "python",
   "name": "python3"
  },
  "language_info": {
   "codemirror_mode": {
    "name": "ipython",
    "version": 3
   },
   "file_extension": ".py",
   "mimetype": "text/x-python",
   "name": "python",
   "nbconvert_exporter": "python",
   "pygments_lexer": "ipython3",
   "version": "3.7.6"
  }
 },
 "nbformat": 4,
 "nbformat_minor": 4
}
